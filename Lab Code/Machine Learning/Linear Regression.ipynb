{
 "cells": [
  {
   "cell_type": "code",
   "execution_count": 30,
   "id": "9ceaa3b8-54bb-4dfe-ab00-4d11849e1f07",
   "metadata": {},
   "outputs": [],
   "source": [
    "import numpy as np"
   ]
  },
  {
   "cell_type": "code",
   "execution_count": 31,
   "id": "0b26b627-4f6c-4cc4-ba5f-bf6bce7e680c",
   "metadata": {},
   "outputs": [],
   "source": [
    "x = np.array([95,85,80,70,60])\n",
    "y = np.array([85,95,70,65,70])\n",
    "\n",
    "x_mean = np.mean(x)\n",
    "y_mean = np.mean(y)\n",
    "b0 = 0"
   ]
  },
  {
   "cell_type": "code",
   "execution_count": 32,
   "id": "9c6e3389-f1b8-4905-90c8-fed4c94c166b",
   "metadata": {},
   "outputs": [
    {
     "name": "stdout",
     "output_type": "stream",
     "text": [
      "y = ax + b\n",
      "a = 0.6438356164383562  b = 26.78082191780822\n"
     ]
    }
   ],
   "source": [
    "n = d = 0\n",
    "for i, j in zip(x,y):\n",
    "    n += (i - x_mean)*(j - y_mean)\n",
    "    d += (x_mean - i)**2\n",
    "\n",
    "b0 = n/d\n",
    "b1 = y_mean - b0 * x_mean\n",
    "print(\"y = ax + b\")\n",
    "print (f\"a = {b0}  b = {b1}\")"
   ]
  }
 ],
 "metadata": {
  "kernelspec": {
   "display_name": "Python 3 (ipykernel)",
   "language": "python",
   "name": "python3"
  },
  "language_info": {
   "codemirror_mode": {
    "name": "ipython",
    "version": 3
   },
   "file_extension": ".py",
   "mimetype": "text/x-python",
   "name": "python",
   "nbconvert_exporter": "python",
   "pygments_lexer": "ipython3",
   "version": "3.9.13"
  }
 },
 "nbformat": 4,
 "nbformat_minor": 5
}
